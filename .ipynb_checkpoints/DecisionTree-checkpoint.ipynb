{
 "cells": [
  {
   "cell_type": "markdown",
   "metadata": {},
   "source": [
    "##### Made by Josiah Coad, CoadBros-Tutoring\n",
    "- Date: Jun 12, 2018"
   ]
  },
  {
   "cell_type": "markdown",
   "metadata": {},
   "source": [
    "# Decision Trees\n",
    "\n",
    "#### When do you use this model? \n",
    "- You have labeled data (a DT is a supervised machine learning model)\n",
    "- You want a highly interpretable model (easy and intuitive to see how the computer is making decisions)\n",
    "- Your problem is a classification problem (although there are also regression applications)\n",
    "- You have a large data set (thousands of samples per label)\n",
    "    - (A decision tree is a non-linear algorithm which means that it can capture complex relationships and non-linearities in your data but has a tendency to overfit your data)\n",
    "- You need a model set up quickly\n",
    "\n",
    "#### Difference between random forest and decision trees\n",
    "- A random forest is a collection of decision trees where each tree chooses a subset of features from the dataset to build from. \n",
    "- The subset of features for each tree are chosen at random.\n",
    "- As a result, each tree will be like \"experts\" in the features they were allowed to use.\n",
    "- They all pitch in to the final decision like \"votes\" towards the final decision.\n",
    "- Example: As the president, you want many people who are around you who all have different backgrounds to give you input on the decisions you should make."
   ]
  },
  {
   "cell_type": "markdown",
   "metadata": {},
   "source": [
    "## Visualizing a Decision Tree\n",
    "#### You will need to install the following python packages using Anaconda or pip:\n",
    "- scipy, sklearn, numpy, statistics\n",
    "\n",
    "#### The tree graph file is a .dot file. I suggest either of the following ways to view the .dot:\n",
    "1. Using xdot\n",
    "    - brew install xdot\n",
    "2. Using graphviz:\n",
    "    - brew install graphviz"
   ]
  },
  {
   "cell_type": "code",
   "execution_count": 1,
   "metadata": {},
   "outputs": [],
   "source": [
    "import sklearn.tree\n",
    "import pandas as pd\n",
    "import numpy as np\n",
    "import sklearn.model_selection\n",
    "import statistics"
   ]
  },
  {
   "cell_type": "code",
   "execution_count": 2,
   "metadata": {},
   "outputs": [
    {
     "data": {
      "text/html": [
       "<div>\n",
       "<style scoped>\n",
       "    .dataframe tbody tr th:only-of-type {\n",
       "        vertical-align: middle;\n",
       "    }\n",
       "\n",
       "    .dataframe tbody tr th {\n",
       "        vertical-align: top;\n",
       "    }\n",
       "\n",
       "    .dataframe thead th {\n",
       "        text-align: right;\n",
       "    }\n",
       "</style>\n",
       "<table border=\"1\" class=\"dataframe\">\n",
       "  <thead>\n",
       "    <tr style=\"text-align: right;\">\n",
       "      <th></th>\n",
       "      <th>sepal-length</th>\n",
       "      <th>sepal-width</th>\n",
       "      <th>petal-length</th>\n",
       "      <th>petal-width</th>\n",
       "    </tr>\n",
       "  </thead>\n",
       "  <tbody>\n",
       "    <tr>\n",
       "      <th>0</th>\n",
       "      <td>5.1</td>\n",
       "      <td>3.5</td>\n",
       "      <td>1.4</td>\n",
       "      <td>0.2</td>\n",
       "    </tr>\n",
       "    <tr>\n",
       "      <th>1</th>\n",
       "      <td>4.9</td>\n",
       "      <td>3.0</td>\n",
       "      <td>1.4</td>\n",
       "      <td>0.2</td>\n",
       "    </tr>\n",
       "    <tr>\n",
       "      <th>2</th>\n",
       "      <td>4.7</td>\n",
       "      <td>3.2</td>\n",
       "      <td>1.3</td>\n",
       "      <td>0.2</td>\n",
       "    </tr>\n",
       "    <tr>\n",
       "      <th>3</th>\n",
       "      <td>4.6</td>\n",
       "      <td>3.1</td>\n",
       "      <td>1.5</td>\n",
       "      <td>0.2</td>\n",
       "    </tr>\n",
       "    <tr>\n",
       "      <th>4</th>\n",
       "      <td>5.0</td>\n",
       "      <td>3.6</td>\n",
       "      <td>1.4</td>\n",
       "      <td>0.2</td>\n",
       "    </tr>\n",
       "  </tbody>\n",
       "</table>\n",
       "</div>"
      ],
      "text/plain": [
       "   sepal-length  sepal-width  petal-length  petal-width\n",
       "0           5.1          3.5           1.4          0.2\n",
       "1           4.9          3.0           1.4          0.2\n",
       "2           4.7          3.2           1.3          0.2\n",
       "3           4.6          3.1           1.5          0.2\n",
       "4           5.0          3.6           1.4          0.2"
      ]
     },
     "execution_count": 2,
     "metadata": {},
     "output_type": "execute_result"
    }
   ],
   "source": [
    "# Let's load the iris dataset...\n",
    "iris_filename = 'iris.csv'\n",
    "feature_columns = [\"sepal-length\", \"sepal-width\", \"petal-length\", \"petal-width\"]\n",
    "label_column = [\"class\"]\n",
    "# read in the dataframe\n",
    "iris_df = pd.read_csv(iris_filename)\n",
    "# seperate the features and labels\n",
    "iris_data = iris_df[feature_columns]\n",
    "# get the labels as a Series\n",
    "iris_labels = iris_df[label_column].iloc[:,0]\n",
    "iris_data.head()"
   ]
  },
  {
   "cell_type": "code",
   "execution_count": 3,
   "metadata": {},
   "outputs": [],
   "source": [
    "dtclassifier = sklearn.tree.DecisionTreeClassifier(\n",
    "    max_depth=None, max_leaf_nodes=None, min_impurity_decrease=0.0\n",
    ")"
   ]
  },
  {
   "cell_type": "markdown",
   "metadata": {},
   "source": [
    "##### Extra\n",
    "- start with setting __min_impurity_decrease=.5__, __max_depth=5__, __max_leaf_nodes=8__ \n",
    "- see how your tree changes and how your cross_validation changes\n",
    "- you can look into additional parameters to pass to DecisionTreeClassifier [link here](http://scikit-learn.org/stable/modules/generated/sklearn.tree.DecisionTreeClassifier.html)"
   ]
  },
  {
   "cell_type": "code",
   "execution_count": 4,
   "metadata": {},
   "outputs": [],
   "source": [
    "# This is where the magic happens...\n",
    "iris_dtree = dtclassifier.fit(iris_data, iris_labels)"
   ]
  },
  {
   "cell_type": "code",
   "execution_count": 5,
   "metadata": {},
   "outputs": [],
   "source": [
    "# Now lets look at the output of fitting our model!\n",
    "sklearn.tree.export_graphviz(iris_dtree,\n",
    "    feature_names=feature_columns,\n",
    "    class_names=iris_labels.unique(),\n",
    "    out_file='iris_tree.dot')"
   ]
  },
  {
   "cell_type": "markdown",
   "metadata": {},
   "source": [
    "Once you run the above code, type in your terminal (based on the install method you chose): \n",
    "1. xdot iris_tree.dot\n",
    "2. dot -Tpng iris_tree.dot -o iris_tree.png && open iris_tree.png"
   ]
  },
  {
   "cell_type": "markdown",
   "metadata": {},
   "source": [
    "#### In case you weren't able to do those steps, here is the output:\n",
    "![Decision tree for Iris](iris_tree.png)"
   ]
  },
  {
   "cell_type": "code",
   "execution_count": 6,
   "metadata": {},
   "outputs": [
    {
     "data": {
      "text/plain": [
       "0.95333333333333337"
      ]
     },
     "execution_count": 6,
     "metadata": {},
     "output_type": "execute_result"
    }
   ],
   "source": [
    "# Now see how well your iris model performed!\n",
    "statistics.mean(sklearn.model_selection.cross_val_score(iris_dtree, iris_data, iris_labels, cv=10))"
   ]
  },
  {
   "cell_type": "markdown",
   "metadata": {},
   "source": [
    "## Decision Tree Algorithm From Scratch"
   ]
  },
  {
   "cell_type": "code",
   "execution_count": 7,
   "metadata": {},
   "outputs": [],
   "source": [
    "from random import seed\n",
    "from random import randrange\n",
    "from csv import reader\n",
    "from math import sqrt"
   ]
  },
  {
   "cell_type": "code",
   "execution_count": 8,
   "metadata": {},
   "outputs": [],
   "source": [
    "# Calculate the Gini index for a split dataset\n",
    "# gini_index goes from 0 to 1\n",
    "# A gini_index of 0 is the best meaning that each bucket\n",
    "# has homogeneous data. AKA each bucket has data\n",
    "# from a single class and no bucket has data from 2 or more classes.\n",
    "def gini_index(buckets, classes):\n",
    "    # count all samples at split point\n",
    "    n_instances = float([len(bucket) for bucket in buckets])\n",
    "    # sum weighted Gini index for each bucket\n",
    "    gini = 0.0\n",
    "    for bucket in buckets:\n",
    "        size = float(len(bucket))\n",
    "        # avoid divide by zero for buckets with no data in them\n",
    "        if size == 0:\n",
    "            continue\n",
    "        score = 0.0\n",
    "        # score the bucket based on the score for each class\n",
    "        for class_val in classes:\n",
    "            p = [row[-1] for row in bucket].count(class_val) / size\n",
    "            score += p * p\n",
    "        # weight the group score by its relative size\n",
    "        gini += (1.0 - score) * (size / n_instances)\n",
    "    return gini"
   ]
  },
  {
   "cell_type": "code",
   "execution_count": 9,
   "metadata": {},
   "outputs": [],
   "source": [
    "# Split a dataset split into two buckets based\n",
    "# on a split point (feature, feature value).\n",
    "# Return the left/right children buckets.\n",
    "def test_split(splitfeature, splitvalue, dataframe):\n",
    "    leftbucket, rightbucket = list(), list()\n",
    "    for row in dataframe:\n",
    "        if row[splitfeature] < splitvalue:\n",
    "            leftbucket.append(row)\n",
    "        else:\n",
    "            rightbucket.append(row)\n",
    "    return leftbucket, rightbucket\n",
    "\n",
    "# Select the best split point (feature, feature value) for a dataset\n",
    "# Iterate through each feature and each corresponding feature value,\n",
    "# and \"test\" what would happen if we split the data on that split point.\n",
    "# Save the split point where the \"test results\" AKA gini value\n",
    "# is closest to 0.\n",
    "def get_split(dataframe, label_column):\n",
    "    # get the classes\n",
    "    labels = dataframe[label_column].iloc[:,0]\n",
    "    classes = labels.unique()\n",
    "    # get the list of feature names\n",
    "    features = list(data)\n",
    "    # set defaults\n",
    "    best_gini, bestfeature_index, bestsample_index, best_buckets = 99999, 99999, 99999, None\n",
    "    \n",
    "    for feature in features:\n",
    "        for row in dataframe:\n",
    "            buckets = test_split(feature, row[feature], dataframe)\n",
    "            gini = gini_index(buckets, classes)\n",
    "            if gini < best_gini:\n",
    "                bestfeature_index, bestsample_index, best_gini, best_buckets = index, row[index], gini, buckets\n",
    "    return {'index':bestfeature_index, 'value':bestsample_index, 'buckets':best_buckets}"
   ]
  },
  {
   "cell_type": "code",
   "execution_count": 10,
   "metadata": {},
   "outputs": [],
   "source": [
    "# Create a terminal/leaf node\n",
    "def to_terminal(bucket, label_column):\n",
    "    outcomes = [row[label_column] for row in bucket]\n",
    "    return max(set(outcomes), key=outcomes.count)\n",
    "\n",
    "# Create child splits for a node or make terminal\n",
    "# Call recursively \n",
    "def split(node, max_depth, min_size, depth, label_column):\n",
    "    left, right = node['buckets']\n",
    "    del(node['buckets'])\n",
    "    # check for a no split\n",
    "    if not left or not right:\n",
    "        node['left'] = node['right'] = to_terminal(left + right, label_column)\n",
    "        return\n",
    "    # check for max depth\n",
    "    if depth >= max_depth:\n",
    "        node['left'], node['right'] = to_terminal(left, label_column), to_terminal(right, label_column)\n",
    "        return\n",
    "    # process left child\n",
    "    if len(left) <= min_size:\n",
    "        node['left'] = to_terminal(left, label_column)\n",
    "    else:\n",
    "        node['left'] = get_split(left, label_column)\n",
    "        split(node['left'], max_depth, min_size, depth+1)\n",
    "    # process right child\n",
    "    if len(right) <= min_size:\n",
    "        node['right'] = to_terminal(right, label_column)\n",
    "    else:\n",
    "        node['right'] = get_split(right, label_column)\n",
    "        split(node['right'], max_depth, min_size, depth+1, label_column)"
   ]
  },
  {
   "cell_type": "code",
   "execution_count": 11,
   "metadata": {},
   "outputs": [],
   "source": [
    "# Build a decision tree by splitting the data many times\n",
    "def build_tree(dataframe, label_column, max_depth, min_size):\n",
    "    root = get_split(dataframe, label_column)\n",
    "    split(root, max_depth, min_size, 1, dataframe)\n",
    "    return root"
   ]
  },
  {
   "cell_type": "code",
   "execution_count": 12,
   "metadata": {},
   "outputs": [
    {
     "ename": "NameError",
     "evalue": "name 'class_column' is not defined",
     "output_type": "error",
     "traceback": [
      "\u001b[0;31m---------------------------------------------------------------------------\u001b[0m",
      "\u001b[0;31mNameError\u001b[0m                                 Traceback (most recent call last)",
      "\u001b[0;32m<ipython-input-12-10bf93130b37>\u001b[0m in \u001b[0;36m<module>\u001b[0;34m()\u001b[0m\n\u001b[1;32m      1\u001b[0m \u001b[0;31m# Now using our own .fit function that we made!\u001b[0m\u001b[0;34m\u001b[0m\u001b[0;34m\u001b[0m\u001b[0m\n\u001b[0;32m----> 2\u001b[0;31m \u001b[0msonar_dtree\u001b[0m \u001b[0;34m=\u001b[0m \u001b[0mbuild_tree\u001b[0m\u001b[0;34m(\u001b[0m\u001b[0miris_df\u001b[0m\u001b[0;34m,\u001b[0m \u001b[0mmax_depth\u001b[0m\u001b[0;34m=\u001b[0m\u001b[0;36m10\u001b[0m\u001b[0;34m,\u001b[0m \u001b[0mmin_size\u001b[0m\u001b[0;34m=\u001b[0m\u001b[0;36m1\u001b[0m\u001b[0;34m)\u001b[0m\u001b[0;34m\u001b[0m\u001b[0m\n\u001b[0m",
      "\u001b[0;32m<ipython-input-11-5e247a138ee9>\u001b[0m in \u001b[0;36mbuild_tree\u001b[0;34m(training_data, max_depth, min_size)\u001b[0m\n\u001b[1;32m      1\u001b[0m \u001b[0;31m# Build a decision tree by splitting the data many times\u001b[0m\u001b[0;34m\u001b[0m\u001b[0;34m\u001b[0m\u001b[0m\n\u001b[1;32m      2\u001b[0m \u001b[0;32mdef\u001b[0m \u001b[0mbuild_tree\u001b[0m\u001b[0;34m(\u001b[0m\u001b[0mtraining_data\u001b[0m\u001b[0;34m,\u001b[0m \u001b[0mmax_depth\u001b[0m\u001b[0;34m,\u001b[0m \u001b[0mmin_size\u001b[0m\u001b[0;34m)\u001b[0m\u001b[0;34m:\u001b[0m\u001b[0;34m\u001b[0m\u001b[0m\n\u001b[0;32m----> 3\u001b[0;31m     \u001b[0mroot\u001b[0m \u001b[0;34m=\u001b[0m \u001b[0mget_split\u001b[0m\u001b[0;34m(\u001b[0m\u001b[0mtraining_data\u001b[0m\u001b[0;34m)\u001b[0m\u001b[0;34m\u001b[0m\u001b[0m\n\u001b[0m\u001b[1;32m      4\u001b[0m     \u001b[0msplit\u001b[0m\u001b[0;34m(\u001b[0m\u001b[0mroot\u001b[0m\u001b[0;34m,\u001b[0m \u001b[0mmax_depth\u001b[0m\u001b[0;34m,\u001b[0m \u001b[0mmin_size\u001b[0m\u001b[0;34m,\u001b[0m \u001b[0;36m1\u001b[0m\u001b[0;34m)\u001b[0m\u001b[0;34m\u001b[0m\u001b[0m\n\u001b[1;32m      5\u001b[0m     \u001b[0;32mreturn\u001b[0m \u001b[0mroot\u001b[0m\u001b[0;34m\u001b[0m\u001b[0m\n",
      "\u001b[0;32m<ipython-input-9-d9aceae75f04>\u001b[0m in \u001b[0;36mget_split\u001b[0;34m(dataset)\u001b[0m\n\u001b[1;32m     18\u001b[0m \u001b[0;32mdef\u001b[0m \u001b[0mget_split\u001b[0m\u001b[0;34m(\u001b[0m\u001b[0mdataset\u001b[0m\u001b[0;34m)\u001b[0m\u001b[0;34m:\u001b[0m\u001b[0;34m\u001b[0m\u001b[0m\n\u001b[1;32m     19\u001b[0m     \u001b[0;31m# Note here that the class label is assumed to be the last column of the dataset\u001b[0m\u001b[0;34m\u001b[0m\u001b[0;34m\u001b[0m\u001b[0m\n\u001b[0;32m---> 20\u001b[0;31m     \u001b[0mclass_values\u001b[0m \u001b[0;34m=\u001b[0m \u001b[0mlist\u001b[0m\u001b[0;34m(\u001b[0m\u001b[0mset\u001b[0m\u001b[0;34m(\u001b[0m\u001b[0mdataset\u001b[0m\u001b[0;34m[\u001b[0m\u001b[0mclass_column\u001b[0m\u001b[0;34m]\u001b[0m\u001b[0;34m)\u001b[0m\u001b[0;34m)\u001b[0m\u001b[0;34m\u001b[0m\u001b[0m\n\u001b[0m\u001b[1;32m     21\u001b[0m     \u001b[0mbest_gini\u001b[0m\u001b[0;34m,\u001b[0m \u001b[0mbestfeature_index\u001b[0m\u001b[0;34m,\u001b[0m \u001b[0mbestsample_index\u001b[0m\u001b[0;34m,\u001b[0m \u001b[0mbest_groups\u001b[0m \u001b[0;34m=\u001b[0m \u001b[0;36m99999\u001b[0m\u001b[0;34m,\u001b[0m \u001b[0;36m99999\u001b[0m\u001b[0;34m,\u001b[0m \u001b[0;36m99999\u001b[0m\u001b[0;34m,\u001b[0m \u001b[0;32mNone\u001b[0m\u001b[0;34m\u001b[0m\u001b[0m\n\u001b[1;32m     22\u001b[0m     \u001b[0mfeatures\u001b[0m \u001b[0;34m=\u001b[0m \u001b[0mrange\u001b[0m\u001b[0;34m(\u001b[0m\u001b[0mlen\u001b[0m\u001b[0;34m(\u001b[0m\u001b[0mdataset\u001b[0m\u001b[0;34m[\u001b[0m\u001b[0;36m0\u001b[0m\u001b[0;34m]\u001b[0m\u001b[0;34m)\u001b[0m \u001b[0;34m-\u001b[0m \u001b[0;36m1\u001b[0m\u001b[0;34m)\u001b[0m\u001b[0;34m\u001b[0m\u001b[0m\n",
      "\u001b[0;31mNameError\u001b[0m: name 'class_column' is not defined"
     ]
    }
   ],
   "source": [
    "# Now using our own .fit function that we made!\n",
    "sonar_dtree = build_tree(iris_data, iris_labels, max_depth=10, min_size=1)"
   ]
  },
  {
   "cell_type": "code",
   "execution_count": null,
   "metadata": {},
   "outputs": [],
   "source": [
    "# These package are just to display the json in an interactive way\n",
    "import uuid\n",
    "from IPython.display import display_javascript, display_html, display\n",
    "import json"
   ]
  },
  {
   "cell_type": "code",
   "execution_count": null,
   "metadata": {},
   "outputs": [],
   "source": [
    "# Render the tree as an interactive json object\n",
    "class RenderJSON(object):\n",
    "    def __init__(self, json_data):\n",
    "        if isinstance(json_data, dict):\n",
    "            self.json_str = json.dumps(json_data)\n",
    "        else:\n",
    "            self.json_str = json_data\n",
    "        self.uuid = str(uuid.uuid4())\n",
    "\n",
    "    def _ipython_display_(self):\n",
    "        display_html('<div id=\"{}\" style=\"height: 600px; width:100%;\"></div>'.format(self.uuid), raw=True)\n",
    "        display_javascript(\"\"\"\n",
    "        require([\"https://rawgit.com/caldwell/renderjson/master/renderjson.js\"], function() {\n",
    "        document.getElementById('%s').appendChild(renderjson(%s))\n",
    "        });\n",
    "        \"\"\" % (self.uuid, self.json_str), raw=True)\n",
    "\n",
    "RenderJSON(sonar_dtree)"
   ]
  },
  {
   "cell_type": "code",
   "execution_count": null,
   "metadata": {},
   "outputs": [],
   "source": [
    "# In case the above didn't work...\n",
    "print(json.dumps(sonar_dtree, indent=2))"
   ]
  },
  {
   "cell_type": "markdown",
   "metadata": {},
   "source": [
    "### Recap what is important\n",
    "- The tree is made from the root, down to its leaves/terminals by calling get_split recursively on each child node.\n",
    "- The computer is trying at each step/node to get the lowest gini possible.\n",
    "- The lowest gini is achieved when the left/right buckets are as homogenous (data from only one class) as possible\n",
    "- At each node, the computer iterates through each feature and each value corresponding to that feature and tries to split the data given that split point (feature, feature value) and sees how good of a gini index it can get.\n",
    "- If left to itself, the computer would grow the tree until every node had a gini index of 0... but that would probably be overfitting the data so we set a max_depth.\n",
    "- The code from scratch was very inefficient. What is the time complexity of this algorithm? How could you improve it?"
   ]
  },
  {
   "cell_type": "markdown",
   "metadata": {},
   "source": [
    "### What's next...\n",
    "- A decision tree has probably overfit your data.\n",
    "- Try a random forest (which is a ensemble method) next to try to mitigate the overfitting!"
   ]
  }
 ],
 "metadata": {
  "kernelspec": {
   "display_name": "Python 3",
   "language": "python",
   "name": "python3"
  },
  "language_info": {
   "codemirror_mode": {
    "name": "ipython",
    "version": 3
   },
   "file_extension": ".py",
   "mimetype": "text/x-python",
   "name": "python",
   "nbconvert_exporter": "python",
   "pygments_lexer": "ipython3",
   "version": "3.6.5"
  }
 },
 "nbformat": 4,
 "nbformat_minor": 2
}
